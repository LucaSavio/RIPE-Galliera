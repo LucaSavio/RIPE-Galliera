{
 "cells": [
  {
   "cell_type": "code",
   "execution_count": null,
   "metadata": {},
   "outputs": [],
   "source": [
    "import pandas as pd\n",
    "from preprocessing import main\n",
    "df_prestazioni = pd.read_csv('dataset/prestazioni.csv')\n",
    "df_risultati_lab = pd.read_csv('dataset/risultati.csv')\n",
    "df_master = pd.read_csv('dataset/master.csv')"
   ]
  },
  {
   "cell_type": "code",
   "execution_count": null,
   "metadata": {},
   "outputs": [],
   "source": [
    "id_paziente = list(df_prestazioni.sample(1)['gdpr_id'])[0]\n",
    "id_paziente"
   ]
  },
  {
   "cell_type": "code",
   "execution_count": null,
   "metadata": {},
   "outputs": [],
   "source": [
    "df_prestazioni = df_prestazioni[df_prestazioni.gdpr_id == id_paziente]\n",
    "\n",
    "df_risultati_lab = df_risultati_lab[df_risultati_lab.gdpr_id == id_paziente]\n",
    "\n",
    "df_master =df_master[df_master.gdpr_id == id_paziente]"
   ]
  },
  {
   "cell_type": "code",
   "execution_count": null,
   "metadata": {},
   "outputs": [],
   "source": [
    "try:\n",
    "    raw_data = main(df_prestazioni, df_risultati_lab, df_master)\n",
    "except:\n",
    "    print(\"I dati per il paziente sono incompleti, per favore cambiare ID paziente rieseguendo le celle precedenti.\")"
   ]
  },
  {
   "cell_type": "code",
   "execution_count": null,
   "metadata": {},
   "outputs": [],
   "source": [
    "scoring_uri = 'http://43ade352-7064-44ac-b82a-f89d3ee4e0c3.westeurope.azurecontainer.io/score'"
   ]
  },
  {
   "cell_type": "code",
   "execution_count": null,
   "metadata": {},
   "outputs": [],
   "source": [
    "import requests\n",
    "import json\n",
    "\n",
    "# Convert the array to a serializable list in a JSON document\n",
    "input_json = json.dumps({\"data\": raw_data})\n",
    "\n",
    "# Set the content type\n",
    "headers = { 'Content-Type':'application/json' }\n",
    "\n",
    "results = json.loads(requests.post(scoring_uri , input_json, headers = headers).json())['data']"
   ]
  },
  {
   "cell_type": "code",
   "execution_count": null,
   "metadata": {},
   "outputs": [],
   "source": [
    "for i in range(0, len(raw_data)):\n",
    "    flag = ['NON RIAMMESSO' if results['predictions'][i] == 0 else 'RIAMMESSO'][0]\n",
    "    prob = results['probabilities'][i]\n",
    "    print('Paziente %s con probabilità %s' % (str(flag), str(prob)))"
   ]
  }
 ],
 "metadata": {
  "kernelspec": {
   "display_name": "Python 3",
   "language": "python",
   "name": "python3"
  },
  "language_info": {
   "codemirror_mode": {
    "name": "ipython",
    "version": 3
   },
   "file_extension": ".py",
   "mimetype": "text/x-python",
   "name": "python",
   "nbconvert_exporter": "python",
   "pygments_lexer": "ipython3",
   "version": "3.8.3"
  }
 },
 "nbformat": 4,
 "nbformat_minor": 4
}
