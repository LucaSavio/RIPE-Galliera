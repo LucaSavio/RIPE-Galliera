{
 "cells": [
  {
   "cell_type": "code",
   "execution_count": 1,
   "metadata": {},
   "outputs": [],
   "source": [
    "import pandas as pd\n",
    "df_prestazioni = pd.read_csv('dataset/prestazioni.csv')\n",
    "df_risultati_lab = pd.read_csv('dataset/risultati.csv')\n",
    "df_master = pd.read_csv('dataset/master.csv')"
   ]
  },
  {
   "cell_type": "code",
   "execution_count": 2,
   "metadata": {},
   "outputs": [],
   "source": [
    "persona = 123456860\n",
    "df_prestazioni = df_prestazioni[df_prestazioni.gdpr_id==persona]\n",
    "\n",
    "df_risultati_lab = df_risultati_lab[df_risultati_lab.gdpr_id==persona]\n",
    "\n",
    "df_master =df_master[df_master.gdpr_id==persona]"
   ]
  },
  {
   "cell_type": "code",
   "execution_count": 3,
   "metadata": {},
   "outputs": [],
   "source": [
    "from preprocessing import main"
   ]
  },
  {
   "cell_type": "code",
   "execution_count": 4,
   "metadata": {},
   "outputs": [
    {
     "name": "stderr",
     "output_type": "stream",
     "text": [
      "C:\\Users\\l.savio\\SoftJam S.p.A\\Flagship & Finanziati - RIPE\\Materiale Galliera dicembre 2020\\Finale-GALLIERA\\RIPE-Galliera\\preprocessing.py:122: SettingWithCopyWarning: \n",
      "A value is trying to be set on a copy of a slice from a DataFrame.\n",
      "Try using .loc[row_indexer,col_indexer] = value instead\n",
      "\n",
      "See the caveats in the documentation: https://pandas.pydata.org/pandas-docs/stable/user_guide/indexing.html#returning-a-view-versus-a-copy\n",
      "  df_user_ricov['data_erogazione'] = pd.to_datetime(df_user_ricov['data_erogazione'])\n",
      "C:\\Users\\l.savio\\SoftJam S.p.A\\Flagship & Finanziati - RIPE\\Materiale Galliera dicembre 2020\\Finale-GALLIERA\\RIPE-Galliera\\preprocessing.py:123: SettingWithCopyWarning: \n",
      "A value is trying to be set on a copy of a slice from a DataFrame.\n",
      "Try using .loc[row_indexer,col_indexer] = value instead\n",
      "\n",
      "See the caveats in the documentation: https://pandas.pydata.org/pandas-docs/stable/user_guide/indexing.html#returning-a-view-versus-a-copy\n",
      "  df_user_ricov['datediff'] = df_user_ricov.data_erogazione.diff().astype(str)\n",
      "C:\\Users\\l.savio\\SoftJam S.p.A\\Flagship & Finanziati - RIPE\\Materiale Galliera dicembre 2020\\Finale-GALLIERA\\RIPE-Galliera\\preprocessing.py:124: SettingWithCopyWarning: \n",
      "A value is trying to be set on a copy of a slice from a DataFrame.\n",
      "Try using .loc[row_indexer,col_indexer] = value instead\n",
      "\n",
      "See the caveats in the documentation: https://pandas.pydata.org/pandas-docs/stable/user_guide/indexing.html#returning-a-view-versus-a-copy\n",
      "  df_user_ricov['datediff'] = df_user_ricov['datediff'].apply(lambda x : x.split(' ')[0])\n",
      "C:\\Users\\l.savio\\SoftJam S.p.A\\Flagship & Finanziati - RIPE\\Materiale Galliera dicembre 2020\\Finale-GALLIERA\\RIPE-Galliera\\preprocessing.py:125: SettingWithCopyWarning: \n",
      "A value is trying to be set on a copy of a slice from a DataFrame.\n",
      "Try using .loc[row_indexer,col_indexer] = value instead\n",
      "\n",
      "See the caveats in the documentation: https://pandas.pydata.org/pandas-docs/stable/user_guide/indexing.html#returning-a-view-versus-a-copy\n",
      "  df_user_ricov['datediff'] = df_user_ricov['datediff'].replace('NaT','0')\n",
      "C:\\Users\\l.savio\\SoftJam S.p.A\\Flagship & Finanziati - RIPE\\Materiale Galliera dicembre 2020\\Finale-GALLIERA\\RIPE-Galliera\\preprocessing.py:126: SettingWithCopyWarning: \n",
      "A value is trying to be set on a copy of a slice from a DataFrame.\n",
      "Try using .loc[row_indexer,col_indexer] = value instead\n",
      "\n",
      "See the caveats in the documentation: https://pandas.pydata.org/pandas-docs/stable/user_guide/indexing.html#returning-a-view-versus-a-copy\n",
      "  df_user_ricov['datediff']  = pd.to_numeric(df_user_ricov['datediff'])\n",
      "C:\\Users\\l.savio\\SoftJam S.p.A\\Flagship & Finanziati - RIPE\\Materiale Galliera dicembre 2020\\Finale-GALLIERA\\RIPE-Galliera\\preprocessing.py:202: RuntimeWarning: invalid value encountered in longlong_scalars\n",
      "  cod_exam+'_ok':[df_risultati_lab[(df_risultati_lab['gdpr_id'] == int(paziente)) & (df_risultati_lab['codice_esame']==str(cod_exam))].ris_ok.sum()/tot],\n",
      "C:\\Users\\l.savio\\SoftJam S.p.A\\Flagship & Finanziati - RIPE\\Materiale Galliera dicembre 2020\\Finale-GALLIERA\\RIPE-Galliera\\preprocessing.py:203: RuntimeWarning: invalid value encountered in longlong_scalars\n",
      "  cod_exam+'_low':[df_risultati_lab[(df_risultati_lab['gdpr_id'] == int(paziente)) & (df_risultati_lab['codice_esame']==str(cod_exam))].ris_min.sum()/tot],\n",
      "C:\\Users\\l.savio\\SoftJam S.p.A\\Flagship & Finanziati - RIPE\\Materiale Galliera dicembre 2020\\Finale-GALLIERA\\RIPE-Galliera\\preprocessing.py:204: RuntimeWarning: invalid value encountered in longlong_scalars\n",
      "  cod_exam+'_hight':[df_risultati_lab[(df_risultati_lab['gdpr_id'] == int(paziente)) & (df_risultati_lab['codice_esame']==str(cod_exam))].ris_max.sum()/tot],\n",
      "C:\\Users\\l.savio\\SoftJam S.p.A\\Flagship & Finanziati - RIPE\\Materiale Galliera dicembre 2020\\Finale-GALLIERA\\RIPE-Galliera\\preprocessing.py:205: RuntimeWarning: invalid value encountered in longlong_scalars\n",
      "  cod_exam+'_problem':[df_risultati_lab[(df_risultati_lab['gdpr_id'] == int(paziente)) & (df_risultati_lab['codice_esame']==str(cod_exam))].ris_problem.sum()/tot]\n"
     ]
    }
   ],
   "source": [
    "raw_data = main(df_prestazioni, df_risultati_lab, df_master)"
   ]
  },
  {
   "cell_type": "code",
   "execution_count": 5,
   "metadata": {},
   "outputs": [],
   "source": [
    "scoring_uri = 'http://43ade352-7064-44ac-b82a-f89d3ee4e0c3.westeurope.azurecontainer.io/score'"
   ]
  },
  {
   "cell_type": "code",
   "execution_count": 6,
   "metadata": {},
   "outputs": [],
   "source": [
    "import requests\n",
    "import json\n",
    "\n",
    "# Convert the array to a serializable list in a JSON document\n",
    "input_json = json.dumps({\"data\": raw_data})\n",
    "\n",
    "# Set the content type\n",
    "headers = { 'Content-Type':'application/json' }\n",
    "\n",
    "results = json.loads(requests.post(scoring_uri , input_json, headers = headers).json())['data']"
   ]
  },
  {
   "cell_type": "code",
   "execution_count": 7,
   "metadata": {},
   "outputs": [
    {
     "name": "stdout",
     "output_type": "stream",
     "text": [
      "Paziente RIAMMESSO con probabilità 0.7558971269160344\n"
     ]
    }
   ],
   "source": [
    "for i in range(0, len(raw_data)):\n",
    "    flag = ['NON RIAMMESSO' if results['predictions'][i] == 0 else 'RIAMMESSO'][0]\n",
    "    prob = results['probabilities'][i]\n",
    "    print('Paziente %s con probabilità %s' % (str(flag), str(prob)))"
   ]
  }
 ],
 "metadata": {
  "kernelspec": {
   "display_name": "Python 3",
   "language": "python",
   "name": "python3"
  },
  "language_info": {
   "codemirror_mode": {
    "name": "ipython",
    "version": 3
   },
   "file_extension": ".py",
   "mimetype": "text/x-python",
   "name": "python",
   "nbconvert_exporter": "python",
   "pygments_lexer": "ipython3",
   "version": "3.8.3"
  }
 },
 "nbformat": 4,
 "nbformat_minor": 4
}
